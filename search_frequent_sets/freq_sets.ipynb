{
 "cells": [
  {
   "cell_type": "markdown",
   "id": "c5dc7082-1327-4241-9930-9f80601fb770",
   "metadata": {},
   "source": [
    "# 1. Алгоритм Apriori "
   ]
  },
  {
   "cell_type": "code",
   "execution_count": 79,
   "id": "c4def456-ff20-4af7-a0e9-bbe7b0cfa3d6",
   "metadata": {},
   "outputs": [],
   "source": [
    "import time\n",
    "\n",
    "import numpy as np\n",
    "import matplotlib.pyplot as plt\n",
    "import pandas as pd"
   ]
  },
  {
   "cell_type": "code",
   "execution_count": 80,
   "id": "34607056-4030-43db-b7a6-cc7a503e31b8",
   "metadata": {},
   "outputs": [],
   "source": [
    "def get_frequent_itemsets(transactions, min_support):\n",
    "    \"\"\" Метод для нахождения частых наборов по алгоритму Априори \"\"\"\n",
    "    transactions = [set(lst) for lst in transactions]\n",
    "\n",
    "    item_count = {}\n",
    "\n",
    "    for transaction in transactions:\n",
    "        for item in transaction:\n",
    "            item_count[item] = item_count.get(item, 0) + 1\n",
    "\n",
    "    transactions_count = len(transactions)\n",
    "    result_frequent_itemsets = {\n",
    "        frozenset([item]): count for item, count in item_count.items()\n",
    "        if count / transactions_count >= min_support\n",
    "    }\n",
    "\n",
    "    set_size = 2  # Начнем с пар\n",
    "    candidate_itemsets = generate_candidates(result_frequent_itemsets.keys(), set_size)\n",
    "    result_frequent_itemsets = {}\n",
    "    while candidate_itemsets:\n",
    "        item_count = {}\n",
    "\n",
    "        # Подсчитываем поддержку для кандидатных наборов\n",
    "        for transaction in transactions:\n",
    "            for candidate in candidate_itemsets:\n",
    "                if candidate.issubset(transaction):\n",
    "                    item_count[candidate] = item_count.get(candidate, 0) + 1\n",
    "\n",
    "        candidate_itemsets = {\n",
    "            itemset: count for itemset, count in item_count.items()\n",
    "            if count / transactions_count >= min_support\n",
    "        }\n",
    "\n",
    "        result_frequent_itemsets.update(candidate_itemsets)\n",
    "\n",
    "        set_size += 1\n",
    "\n",
    "        candidate_itemsets = generate_candidates(result_frequent_itemsets.keys(), set_size)\n",
    "\n",
    "    return result_frequent_itemsets"
   ]
  },
  {
   "cell_type": "code",
   "execution_count": 81,
   "id": "44aeb3a6-d35b-417b-a602-3347e8b0b3e0",
   "metadata": {},
   "outputs": [],
   "source": [
    "def generate_candidates(frequent_itemsets, set_size):\n",
    "    \"\"\" Декартово произведение множества частых наборов на себя \"\"\"\n",
    "    candidates = set()\n",
    "    itemsets_list = list(frequent_itemsets)\n",
    "    for i in range(len(itemsets_list)):\n",
    "        for j in range(i + 1, len(itemsets_list)):\n",
    "            candidate = itemsets_list[i] | itemsets_list[j]\n",
    "            if len(candidate) == set_size:\n",
    "                candidates.add(candidate)\n",
    "\n",
    "    return candidates"
   ]
  },
  {
   "cell_type": "code",
   "execution_count": 82,
   "id": "8df6fb2c-47f7-45da-b883-1be0cf7e9c42",
   "metadata": {},
   "outputs": [],
   "source": [
    "def calculate_apriori(transactions, min_support=0):\n",
    "    test_frequent_itemsets = get_frequent_itemsets(transactions=transactions, min_support=min_support)\n",
    "    results = [(tuple(sorted(itemset)), count) for itemset, count in test_frequent_itemsets.items()]\n",
    "    results_df = pd.DataFrame(results, columns=['items_set', 'support'])\n",
    "    results_df['support'] = results_df['support'] / len(data)\n",
    "    \n",
    "    sort_method = 'lexical'\n",
    "    if sort_method == 'support':\n",
    "        results_df = results_df.sort_values(by='support', ascending=False)\n",
    "    elif sort_method == 'lexical':\n",
    "        results_df = results_df.sort_values(by='items_set')\n",
    "    \n",
    "    return results_df.reset_index(drop=True)"
   ]
  },
  {
   "cell_type": "code",
   "execution_count": 83,
   "id": "9c0ec05c-3f88-4ef5-924f-1a2576eb0b75",
   "metadata": {},
   "outputs": [],
   "source": [
    "def test_apriori():\n",
    "    data = [\n",
    "        ['I1', 'I2', 'I5'],\n",
    "        ['I2', 'I4'],\n",
    "        ['I2', 'I3'],\n",
    "        ['I1', 'I2', 'I4'],\n",
    "        ['I1', 'I3'],\n",
    "        ['I2', 'I3'],\n",
    "        ['I1', 'I3'],\n",
    "        ['I1', 'I2', 'I3', 'I5'],\n",
    "        ['I1', 'I2', 'I3'],\n",
    "        ['I6']\n",
    "    ]\n",
    "    calculate_apriori(data)\n",
    "\n",
    "test_apriori()"
   ]
  },
  {
   "cell_type": "markdown",
   "id": "399e3add-dbce-49ce-89db-78bd72688520",
   "metadata": {},
   "source": [
    "# 2. Эксперименты с разным пороговым значением поддержки"
   ]
  },
  {
   "cell_type": "code",
   "execution_count": 84,
   "id": "a319ea06-8334-4d15-b23b-eeb41528092d",
   "metadata": {},
   "outputs": [],
   "source": [
    "import chardet"
   ]
  },
  {
   "cell_type": "code",
   "execution_count": 85,
   "id": "89a4e45d-f311-4f5e-9fee-78f0adbc2215",
   "metadata": {},
   "outputs": [
    {
     "data": {
      "text/html": [
       "<div>\n",
       "<style scoped>\n",
       "    .dataframe tbody tr th:only-of-type {\n",
       "        vertical-align: middle;\n",
       "    }\n",
       "\n",
       "    .dataframe tbody tr th {\n",
       "        vertical-align: top;\n",
       "    }\n",
       "\n",
       "    .dataframe thead th {\n",
       "        text-align: right;\n",
       "    }\n",
       "</style>\n",
       "<table border=\"1\" class=\"dataframe\">\n",
       "  <thead>\n",
       "    <tr style=\"text-align: right;\">\n",
       "      <th></th>\n",
       "      <th>0</th>\n",
       "      <th>1</th>\n",
       "      <th>2</th>\n",
       "      <th>3</th>\n",
       "      <th>4</th>\n",
       "      <th>5</th>\n",
       "      <th>6</th>\n",
       "      <th>7</th>\n",
       "      <th>8</th>\n",
       "      <th>9</th>\n",
       "      <th>10</th>\n",
       "      <th>11</th>\n",
       "      <th>12</th>\n",
       "      <th>13</th>\n",
       "      <th>14</th>\n",
       "      <th>15</th>\n",
       "      <th>16</th>\n",
       "      <th>17</th>\n",
       "      <th>18</th>\n",
       "      <th>19</th>\n",
       "    </tr>\n",
       "  </thead>\n",
       "  <tbody>\n",
       "    <tr>\n",
       "      <th>7496</th>\n",
       "      <td>сливочное масло</td>\n",
       "      <td>низкокалорийный майонез</td>\n",
       "      <td>свежий хлеб</td>\n",
       "      <td>NaN</td>\n",
       "      <td>NaN</td>\n",
       "      <td>NaN</td>\n",
       "      <td>NaN</td>\n",
       "      <td>NaN</td>\n",
       "      <td>NaN</td>\n",
       "      <td>NaN</td>\n",
       "      <td>NaN</td>\n",
       "      <td>NaN</td>\n",
       "      <td>NaN</td>\n",
       "      <td>NaN</td>\n",
       "      <td>NaN</td>\n",
       "      <td>NaN</td>\n",
       "      <td>NaN</td>\n",
       "      <td>NaN</td>\n",
       "      <td>NaN</td>\n",
       "      <td>NaN</td>\n",
       "    </tr>\n",
       "    <tr>\n",
       "      <th>7497</th>\n",
       "      <td>гамбургер</td>\n",
       "      <td>замороженные овощи</td>\n",
       "      <td>яйца</td>\n",
       "      <td>картофель-фри</td>\n",
       "      <td>журнал</td>\n",
       "      <td>зеленый чай</td>\n",
       "      <td>NaN</td>\n",
       "      <td>NaN</td>\n",
       "      <td>NaN</td>\n",
       "      <td>NaN</td>\n",
       "      <td>NaN</td>\n",
       "      <td>NaN</td>\n",
       "      <td>NaN</td>\n",
       "      <td>NaN</td>\n",
       "      <td>NaN</td>\n",
       "      <td>NaN</td>\n",
       "      <td>NaN</td>\n",
       "      <td>NaN</td>\n",
       "      <td>NaN</td>\n",
       "      <td>NaN</td>\n",
       "    </tr>\n",
       "    <tr>\n",
       "      <th>7498</th>\n",
       "      <td>курица</td>\n",
       "      <td>NaN</td>\n",
       "      <td>NaN</td>\n",
       "      <td>NaN</td>\n",
       "      <td>NaN</td>\n",
       "      <td>NaN</td>\n",
       "      <td>NaN</td>\n",
       "      <td>NaN</td>\n",
       "      <td>NaN</td>\n",
       "      <td>NaN</td>\n",
       "      <td>NaN</td>\n",
       "      <td>NaN</td>\n",
       "      <td>NaN</td>\n",
       "      <td>NaN</td>\n",
       "      <td>NaN</td>\n",
       "      <td>NaN</td>\n",
       "      <td>NaN</td>\n",
       "      <td>NaN</td>\n",
       "      <td>NaN</td>\n",
       "      <td>NaN</td>\n",
       "    </tr>\n",
       "    <tr>\n",
       "      <th>7499</th>\n",
       "      <td>эскалоп</td>\n",
       "      <td>зеленый чай</td>\n",
       "      <td>NaN</td>\n",
       "      <td>NaN</td>\n",
       "      <td>NaN</td>\n",
       "      <td>NaN</td>\n",
       "      <td>NaN</td>\n",
       "      <td>NaN</td>\n",
       "      <td>NaN</td>\n",
       "      <td>NaN</td>\n",
       "      <td>NaN</td>\n",
       "      <td>NaN</td>\n",
       "      <td>NaN</td>\n",
       "      <td>NaN</td>\n",
       "      <td>NaN</td>\n",
       "      <td>NaN</td>\n",
       "      <td>NaN</td>\n",
       "      <td>NaN</td>\n",
       "      <td>NaN</td>\n",
       "      <td>NaN</td>\n",
       "    </tr>\n",
       "    <tr>\n",
       "      <th>7500</th>\n",
       "      <td>яйца</td>\n",
       "      <td>замороженный смузи</td>\n",
       "      <td>йогурт</td>\n",
       "      <td>низкокалорийный йогурт</td>\n",
       "      <td>NaN</td>\n",
       "      <td>NaN</td>\n",
       "      <td>NaN</td>\n",
       "      <td>NaN</td>\n",
       "      <td>NaN</td>\n",
       "      <td>NaN</td>\n",
       "      <td>NaN</td>\n",
       "      <td>NaN</td>\n",
       "      <td>NaN</td>\n",
       "      <td>NaN</td>\n",
       "      <td>NaN</td>\n",
       "      <td>NaN</td>\n",
       "      <td>NaN</td>\n",
       "      <td>NaN</td>\n",
       "      <td>NaN</td>\n",
       "      <td>NaN</td>\n",
       "    </tr>\n",
       "  </tbody>\n",
       "</table>\n",
       "</div>"
      ],
      "text/plain": [
       "                   0                        1            2   \\\n",
       "7496  сливочное масло  низкокалорийный майонез  свежий хлеб   \n",
       "7497        гамбургер       замороженные овощи         яйца   \n",
       "7498           курица                      NaN          NaN   \n",
       "7499          эскалоп              зеленый чай          NaN   \n",
       "7500             яйца       замороженный смузи       йогурт   \n",
       "\n",
       "                          3       4            5    6    7    8    9    10  \\\n",
       "7496                     NaN     NaN          NaN  NaN  NaN  NaN  NaN  NaN   \n",
       "7497           картофель-фри  журнал  зеленый чай  NaN  NaN  NaN  NaN  NaN   \n",
       "7498                     NaN     NaN          NaN  NaN  NaN  NaN  NaN  NaN   \n",
       "7499                     NaN     NaN          NaN  NaN  NaN  NaN  NaN  NaN   \n",
       "7500  низкокалорийный йогурт     NaN          NaN  NaN  NaN  NaN  NaN  NaN   \n",
       "\n",
       "       11   12   13   14   15   16   17   18   19  \n",
       "7496  NaN  NaN  NaN  NaN  NaN  NaN  NaN  NaN  NaN  \n",
       "7497  NaN  NaN  NaN  NaN  NaN  NaN  NaN  NaN  NaN  \n",
       "7498  NaN  NaN  NaN  NaN  NaN  NaN  NaN  NaN  NaN  \n",
       "7499  NaN  NaN  NaN  NaN  NaN  NaN  NaN  NaN  NaN  \n",
       "7500  NaN  NaN  NaN  NaN  NaN  NaN  NaN  NaN  NaN  "
      ]
     },
     "execution_count": 85,
     "metadata": {},
     "output_type": "execute_result"
    }
   ],
   "source": [
    "baskets = pd.read_csv('baskets.csv', encoding='windows-1251', header=None)\n",
    "baskets.tail()"
   ]
  },
  {
   "cell_type": "code",
   "execution_count": 86,
   "id": "ffc3cbf3-332c-477d-ab57-0cd01c57db84",
   "metadata": {},
   "outputs": [
    {
     "data": {
      "text/plain": [
       "[['сливочное масло', 'низкокалорийный майонез', 'свежий хлеб'],\n",
       " ['гамбургер',\n",
       "  'замороженные овощи',\n",
       "  'яйца',\n",
       "  'картофель-фри',\n",
       "  'журнал',\n",
       "  'зеленый чай'],\n",
       " ['курица'],\n",
       " ['эскалоп', 'зеленый чай'],\n",
       " ['яйца', 'замороженный смузи', 'йогурт', 'низкокалорийный йогурт']]"
      ]
     },
     "execution_count": 86,
     "metadata": {},
     "output_type": "execute_result"
    }
   ],
   "source": [
    "baskets_transactions = [list(row.dropna()) for index, row in baskets.iterrows()]\n",
    "baskets_transactions[-5:]"
   ]
  },
  {
   "cell_type": "code",
   "execution_count": 87,
   "id": "588a953c-06da-42d6-b6f4-b80a83e3a9ce",
   "metadata": {},
   "outputs": [],
   "source": [
    "min_supports = [0.01, 0.015, 0.02, 0.03, 0.05, 0.10]  # Значения в процентах\n",
    "execution_times = []  # Для хранения времени выполнения\n",
    "frequent_item_counts = []  # Для хранения количества частых наборов\n",
    "\n",
    "# Запуск экспериментов\n",
    "for min_support in min_supports:\n",
    "    start_time = time.time()  # Начало замера времени\n",
    "    # Выполните алгоритм\n",
    "    result_items = calculate_apriori(transactions=baskets_transactions, min_support=min_support)  # Измените под свои методы\n",
    "    exec_time = time.time() - start_time  # Время выполнения\n",
    "\n",
    "    execution_times.append(exec_time)\n",
    "    # Подсчет частых наборов\n",
    "    frequent_item_counts.append(result_items['items_set'].nunique())\n"
   ]
  },
  {
   "cell_type": "code",
   "execution_count": 88,
   "id": "fd674c0a-f5a7-44a7-a4d2-cd75e28cfdc5",
   "metadata": {},
   "outputs": [
    {
     "data": {
      "image/png": "[encoded data removed]",
      "text/plain": [
       "<Figure size 640x480 with 1 Axes>"
      ]
     },
     "metadata": {},
     "output_type": "display_data"
    }
   ],
   "source": [
    "plt.title(\"Зависимость времени выполнения от minsup\")\n",
    "plt.xlabel(\"min_supports\")\n",
    "plt.ylabel(\"execution_times\")\n",
    "plt.grid()\n",
    "plt.plot(min_supports, execution_times)\n",
    "plt.show()"
   ]
  },
  {
   "cell_type": "code",
   "execution_count": 89,
   "id": "ccd82d93-4cdc-407f-8fc5-410f03bc573f",
   "metadata": {},
   "outputs": [
    {
     "data": {
      "image/png": "[encoded data removed]",
      "text/plain": [
       "<Figure size 640x480 with 1 Axes>"
      ]
     },
     "metadata": {},
     "output_type": "display_data"
    }
   ],
   "source": [
    "plt.title(\"Зависимость количества частных наборов от minsup\")\n",
    "plt.xlabel(\"min_supports\")\n",
    "plt.ylabel(\"frequent_item_counts\")\n",
    "plt.grid()\n",
    "plt.plot(min_supports, frequent_item_counts)\n",
    "plt.show()"
   ]
  }
 ],
 "metadata": {
  "kernelspec": {
   "display_name": "Python 3 (ipykernel)",
   "language": "python",
   "name": "python3"
  },
  "language_info": {
   "codemirror_mode": {
    "name": "ipython",
    "version": 3
   },
   "file_extension": ".py",
   "mimetype": "text/x-python",
   "name": "python",
   "nbconvert_exporter": "python",
   "pygments_lexer": "ipython3",
   "version": "3.12.7"
  }
 },
 "nbformat": 4,
 "nbformat_minor": 5
}
